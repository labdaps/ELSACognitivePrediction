{
 "cells": [
  {
   "cell_type": "markdown",
   "metadata": {},
   "source": [
    "# Data-driven decision making for the screening of cognitive impairment in primary care settings: a machine learning approach using data from the ELSA-Brasil study\n"
   ]
  },
  {
   "cell_type": "code",
   "execution_count": null,
   "metadata": {
    "ExecuteTime": {
     "end_time": "2021-12-19T13:58:00.888894Z",
     "start_time": "2021-12-19T13:57:47.371445Z"
    }
   },
   "outputs": [],
   "source": [
    "import pandas as pd"
   ]
  },
  {
   "cell_type": "code",
   "execution_count": null,
   "metadata": {
    "ExecuteTime": {
     "end_time": "2021-12-19T13:58:04.731611Z",
     "start_time": "2021-12-19T13:58:00.891313Z"
    }
   },
   "outputs": [],
   "source": [
    "import numpy as np\n",
    "import matplotlib.pyplot as plt"
   ]
  },
  {
   "cell_type": "code",
   "execution_count": null,
   "metadata": {
    "ExecuteTime": {
     "end_time": "2021-12-19T13:58:23.632490Z",
     "start_time": "2021-12-19T13:58:04.734185Z"
    }
   },
   "outputs": [],
   "source": [
    "elsa = pd.read_csv('elsa_all.csv', sep=\",\", encoding='latin-1')"
   ]
  },
  {
   "cell_type": "code",
   "execution_count": null,
   "metadata": {
    "ExecuteTime": {
     "end_time": "2021-12-19T13:58:24.115419Z",
     "start_time": "2021-12-19T13:58:23.634971Z"
    }
   },
   "outputs": [],
   "source": [
    "import pyreadstat"
   ]
  },
  {
   "cell_type": "code",
   "execution_count": null,
   "metadata": {
    "ExecuteTime": {
     "end_time": "2021-12-19T13:58:24.208843Z",
     "start_time": "2021-12-19T13:58:24.117723Z"
    }
   },
   "outputs": [],
   "source": [
    "df, meta = pyreadstat.read_dta('../Dados/1. deficit/lab.dta')"
   ]
  },
  {
   "cell_type": "code",
   "execution_count": null,
   "metadata": {
    "ExecuteTime": {
     "end_time": "2021-10-29T23:22:44.653550Z",
     "start_time": "2021-10-29T23:22:35.918436Z"
    }
   },
   "outputs": [],
   "source": [
    "import missingno as msno"
   ]
  },
  {
   "cell_type": "code",
   "execution_count": null,
   "metadata": {
    "ExecuteTime": {
     "end_time": "2021-10-29T23:22:44.661561Z",
     "start_time": "2021-10-29T23:22:44.655586Z"
    }
   },
   "outputs": [],
   "source": [
    "df.columns"
   ]
  },
  {
   "cell_type": "code",
   "execution_count": null,
   "metadata": {
    "ExecuteTime": {
     "end_time": "2021-12-19T13:58:24.217488Z",
     "start_time": "2021-12-19T13:58:24.211136Z"
    }
   },
   "outputs": [],
   "source": [
    "df = df.drop(['centroa', 'lglicarga', 'ltgcarga', 'lt4f'], axis=1)"
   ]
  },
  {
   "cell_type": "code",
   "execution_count": null,
   "metadata": {
    "ExecuteTime": {
     "end_time": "2021-12-19T13:58:24.290761Z",
     "start_time": "2021-12-19T13:58:24.219277Z"
    }
   },
   "outputs": [],
   "source": [
    "df.head()"
   ]
  },
  {
   "cell_type": "code",
   "execution_count": null,
   "metadata": {
    "ExecuteTime": {
     "end_time": "2021-10-29T23:22:44.757961Z",
     "start_time": "2021-10-29T23:22:44.754351Z"
    }
   },
   "outputs": [],
   "source": [
    "print(meta.column_names_to_labels)"
   ]
  },
  {
   "cell_type": "code",
   "execution_count": null,
   "metadata": {
    "ExecuteTime": {
     "end_time": "2021-10-29T23:22:44.768697Z",
     "start_time": "2021-10-29T23:22:44.760386Z"
    }
   },
   "outputs": [],
   "source": [
    "meta.column_names_to_labels"
   ]
  },
  {
   "cell_type": "code",
   "execution_count": null,
   "metadata": {
    "ExecuteTime": {
     "end_time": "2021-12-19T13:58:24.479799Z",
     "start_time": "2021-12-19T13:58:24.294699Z"
    }
   },
   "outputs": [],
   "source": [
    "from dfply import *"
   ]
  },
  {
   "cell_type": "code",
   "execution_count": null,
   "metadata": {
    "ExecuteTime": {
     "end_time": "2021-12-19T13:58:24.505850Z",
     "start_time": "2021-12-19T13:58:24.483214Z"
    }
   },
   "outputs": [],
   "source": [
    "elsa.head()"
   ]
  },
  {
   "cell_type": "code",
   "execution_count": null,
   "metadata": {
    "ExecuteTime": {
     "end_time": "2021-12-19T13:58:25.002169Z",
     "start_time": "2021-12-19T13:58:24.507884Z"
    }
   },
   "outputs": [],
   "source": [
    "elsa2 = elsa >> select([\n",
    "    'idelsa', 'hmpa31b', 'hmpa31a', 'hmpa31c', 'hmpa31e', 'a_anosdm',\n",
    "    'hmpa31d', 'a_dm', 'a_bebexcessivo', 'a_volalc', 'a_enx_class',\n",
    "    'a_clas_socialmobtodos', 'a_nat_ocupmobtodos', 'hoca07', 'hoca08',\n",
    "    'a_cat_ocupmobtodos', 'hoca05', 'hoca09', 'a_estrato_tecmobtodos',\n",
    "    'a_ecgcl_rate', 'a_ecgmc_im', 'a_ecgmc_bavg2', 'a_ecgmc_bavg3',\n",
    "    'a_ecgmc_bcrd', 'a_ecgmc_bcrd_hae', 'a_ecgmc_bcre', 'a_ecgmc_bs',\n",
    "    'a_ecgmc_escomb', 'a_ecgmc_essv', 'a_ecgmc_esv', 'a_ecgmc_fa',\n",
    "    'a_ecgmc_fa_fluttera', 'a_ecgmc_fluttera', 'a_ecgmc_fv_assistolia',\n",
    "    'a_ecgmc_hve_stt', 'a_ecgmc_rsv', 'a_ecgmc_stelevacao', 'a_ecgmc_sttmaior',\n",
    "    'a_ecgmc_ts', 'a_prvdcc', 'a_chdhard', 'a_sfcvdhard', 'a_clas_social1trab',\n",
    "    'a_cat_ocup1trab', 'a_nat_ocup1trab', 'a_estrato_tec1trab', 'a_hratestd3',\n",
    "    'agepart', 'a_rcpcirbariatrica', 'a_escolarmae', 'a_estrato_tectodos',\n",
    "    'a_nat_ocuptodos', 'a_varpesorel', 'a_cat_ocuptodos', 'a_ativfisica',\n",
    "    'a_hypot3', 'a_met', 'a_orthypdia3', 'a_orthypdia3cat', 'a_orthypsys3',\n",
    "    'a_orthypsys3cat', 'a_famchd60all', 'a_sintansie', 'a_tag', 'a_sintpanico',\n",
    "    'a_famsd60all', 'a_insufartperif', 'a_itbalt', 'a_razaopas',\n",
    "    'a_rendapercapita', 'a_sintfobias', 'a_padedi', 'a_vifa30_pmcat',\n",
    "    'a_agofobcpan', 'a_consdiafastfood', 'a_consdiafrutas',\n",
    "    'a_consdiaverduras', 'a_sintcompul', 'a_sintideiadep', 'a_sintobses',\n",
    "    'a_sintpreocup', 'a_toc', 'a_usodealcool', 'a_agofobspan', 'a_angrose3',\n",
    "    'a_depgrave', 'a_depmodcsint', 'a_depmodssint', 'a_escoretotal',\n",
    "    'a_fobesp', 'a_fobsocial', 'a_has2', 'a_hipertrig', 'a_panico', 'a_rcq',\n",
    "    'a_sfang', 'a_sfhf', 'a_sintdep', 'a_sintfadiga', 'a_sintirrit',\n",
    "    'a_sintmemoria', 'a_sintpreosaude', 'a_sintsomat', 'a_sintsono', 'a_thas2',\n",
    "    'a_tmad', 'a_tmc', 'hmpa22', 'hmpa28', 'hmpa33', 'hmpa35', 'vifa27',\n",
    "    'a_baixohdl', 'a_cint', 'a_escolar', 'a_famchdanyall', 'a_fammianyall',\n",
    "    'a_famrevanyall', 'a_famsdanyall', 'a_famstkanyall', 'a_fumante', 'a_imc3',\n",
    "    'a_medaacid', 'a_medantdiab', 'a_medantidepr', 'a_medantplaq', 'a_medbcca',\n",
    "    'a_medbdz', 'a_medbetabl', 'a_medbra', 'a_meddiaboral', 'a_meddiur',\n",
    "    'a_medieca', 'a_medoftbetabl', 'a_medoutahip', 'a_medredlip',\n",
    "    'a_obesidadeabdominal', 'a_pdia', 'a_psis', 'a_sfmi', 'a_sfrev', 'a_sfstk',\n",
    "    'a_sitconj', 'evea04', 'evea09', 'evea12', 'evea15', 'hmpa01', 'hmpa18',\n",
    "    'hmpa24', 'hmpa26', 'hmpa53', 'hoca01', 'hvsa13', 'a_clas_socialtodos',\n",
    "    'a_enx_dic', 'a_medanthipert', 'a_tmcgrav', 'hmpa20', 'race', 'rcta8'\n",
    "])"
   ]
  },
  {
   "cell_type": "code",
   "execution_count": null,
   "metadata": {
    "ExecuteTime": {
     "end_time": "2021-12-19T13:58:25.007423Z",
     "start_time": "2021-12-19T13:58:25.003969Z"
    }
   },
   "outputs": [],
   "source": [
    "del elsa"
   ]
  },
  {
   "cell_type": "code",
   "execution_count": null,
   "metadata": {
    "ExecuteTime": {
     "end_time": "2021-12-19T13:58:25.032070Z",
     "start_time": "2021-12-19T13:58:25.010209Z"
    }
   },
   "outputs": [],
   "source": [
    "elsa2.head()"
   ]
  },
  {
   "cell_type": "code",
   "execution_count": null,
   "metadata": {
    "ExecuteTime": {
     "end_time": "2021-12-19T13:58:25.053050Z",
     "start_time": "2021-12-19T13:58:25.034301Z"
    }
   },
   "outputs": [],
   "source": [
    "deficit = pd.read_csv('claudia.csv', sep=';')"
   ]
  },
  {
   "cell_type": "code",
   "execution_count": null,
   "metadata": {
    "ExecuteTime": {
     "end_time": "2021-12-19T13:58:25.115368Z",
     "start_time": "2021-12-19T13:58:25.055393Z"
    }
   },
   "outputs": [],
   "source": [
    "elsa2 = pd.merge(elsa2, df, left_on='idelsa', right_on='idelsa')"
   ]
  },
  {
   "cell_type": "code",
   "execution_count": null,
   "metadata": {
    "ExecuteTime": {
     "end_time": "2021-12-19T13:58:25.140270Z",
     "start_time": "2021-12-19T13:58:25.117434Z"
    }
   },
   "outputs": [],
   "source": [
    "elsa2.head()"
   ]
  },
  {
   "cell_type": "code",
   "execution_count": null,
   "metadata": {
    "ExecuteTime": {
     "end_time": "2021-12-19T13:58:25.239141Z",
     "start_time": "2021-12-19T13:58:25.142522Z"
    }
   },
   "outputs": [],
   "source": [
    "elsa2 = pd.merge(elsa2, deficit, left_on='idelsa', right_on='IDELSA').drop('IDELSA', axis=1)"
   ]
  },
  {
   "cell_type": "code",
   "execution_count": null,
   "metadata": {
    "ExecuteTime": {
     "end_time": "2021-12-19T13:58:25.259756Z",
     "start_time": "2021-12-19T13:58:25.241114Z"
    }
   },
   "outputs": [],
   "source": [
    "elsa2 = elsa2 >> mask(X.def_2dp_global != '.')"
   ]
  },
  {
   "cell_type": "code",
   "execution_count": null,
   "metadata": {
    "ExecuteTime": {
     "end_time": "2021-10-29T23:23:04.851078Z",
     "start_time": "2021-10-29T23:22:45.870521Z"
    }
   },
   "outputs": [],
   "source": [
    "!pip install pyerfa -U"
   ]
  },
  {
   "cell_type": "code",
   "execution_count": null,
   "metadata": {
    "ExecuteTime": {
     "end_time": "2021-12-19T13:59:19.810423Z",
     "start_time": "2021-12-19T13:58:25.262298Z"
    }
   },
   "outputs": [],
   "source": [
    "from labdaps_binary_classification import *\n",
    "%matplotlib inline\n",
    "\n",
    "import labdaps_binary_classification as labdaps\n",
    "import importlib\n",
    "\n",
    "importlib.reload(labdaps)\n",
    "%load_ext autoreload\n",
    "%autoreload 2"
   ]
  },
  {
   "cell_type": "code",
   "execution_count": null,
   "metadata": {
    "ExecuteTime": {
     "end_time": "2021-12-19T13:59:19.885263Z",
     "start_time": "2021-12-19T13:59:19.812979Z"
    }
   },
   "outputs": [],
   "source": [
    "import matplotlib.pyplot as plt\n",
    "\n",
    "plt.rcParams[\"figure.figsize\"] = [10, 5]\n",
    "plt.style.use(\"fivethirtyeight\")\n",
    "%config InlineBackend.figure_format = 'retina'\n",
    "\n",
    "from matplotlib import rc\n",
    "\n",
    "# Set the global font to be DejaVu Sans, size 10 (or any other sans-serif font of your choice!)\n",
    "rc(\"font\", **{\"family\": \"sans-serif\", \"sans-serif\": [\"DejaVu Sans\"], \"size\": 10})\n",
    "\n",
    "# Set the font used for MathJax - more on this later\n",
    "rc(\"mathtext\", **{\"default\": \"regular\"})"
   ]
  },
  {
   "cell_type": "code",
   "execution_count": null,
   "metadata": {
    "ExecuteTime": {
     "end_time": "2021-12-19T13:59:19.942692Z",
     "start_time": "2021-12-19T13:59:19.887933Z"
    }
   },
   "outputs": [],
   "source": [
    "elsa2.shape"
   ]
  },
  {
   "cell_type": "code",
   "execution_count": null,
   "metadata": {
    "ExecuteTime": {
     "end_time": "2021-12-19T13:59:20.004392Z",
     "start_time": "2021-12-19T13:59:19.944690Z"
    }
   },
   "outputs": [],
   "source": [
    "elsa2['hmpa20'].value_counts()"
   ]
  },
  {
   "cell_type": "code",
   "execution_count": null,
   "metadata": {
    "ExecuteTime": {
     "end_time": "2021-12-19T13:59:20.085355Z",
     "start_time": "2021-12-19T13:59:20.007125Z"
    }
   },
   "outputs": [],
   "source": [
    "del elsa2['hmpa20']"
   ]
  },
  {
   "cell_type": "code",
   "execution_count": null,
   "metadata": {
    "ExecuteTime": {
     "end_time": "2021-12-19T13:59:20.154582Z",
     "start_time": "2021-12-19T13:59:20.093600Z"
    }
   },
   "outputs": [],
   "source": [
    "def miss_data(df):\n",
    "    x = ['column_name','missing_data', 'missing_in_percentage']\n",
    "    missing_data = pd.DataFrame(columns=x)\n",
    "    columns = df.columns\n",
    "    for col in columns:\n",
    "        icolumn_name = col\n",
    "        imissing_data = df[col].isnull().sum()\n",
    "        imissing_in_percentage = (df[col].isnull().sum()/df[col].shape[0])*100\n",
    "        missing_data.loc[len(missing_data)] = [icolumn_name, imissing_data, imissing_in_percentage]\n",
    "    return missing_data"
   ]
  },
  {
   "cell_type": "code",
   "execution_count": null,
   "metadata": {
    "ExecuteTime": {
     "end_time": "2021-12-19T13:59:20.863192Z",
     "start_time": "2021-12-19T13:59:20.160297Z"
    }
   },
   "outputs": [],
   "source": [
    "miss_data(elsa2).sort_values(by='missing_in_percentage', ascending=False).head(30)"
   ]
  },
  {
   "cell_type": "markdown",
   "metadata": {},
   "source": [
    "### Tratamento das estratégias de imputação"
   ]
  },
  {
   "cell_type": "code",
   "execution_count": null,
   "metadata": {
    "ExecuteTime": {
     "end_time": "2021-12-19T13:59:20.922068Z",
     "start_time": "2021-12-19T13:59:20.865943Z"
    }
   },
   "outputs": [],
   "source": [
    "preencher_zero_missing = ['hmpa31b','hmpa31a', 'hmpa31c', 'hmpa31e', 'hmpa31d', 'a_dm', 'a_famchd60all',\n",
    "                         'a_sintansie','a_tag', 'a_sintpanico', 'a_famsd60all', 'a_insufartperif', 'a_itbalt', \n",
    "                         'a_razaopas', 'a_rendapercapita', 'a_sintfobias', 'a_padedi', 'a_vifa30_pmcat', \n",
    "                         'a_agofobcpan', 'a_consdiafastfood',\n",
    "'a_consdiafrutas',\n",
    "'a_consdiaverduras',\n",
    "'a_sintcompul',\n",
    "'a_sintideiadep',\n",
    "'a_sintobses',\n",
    "'a_sintpreocup',\n",
    "'a_toc',\n",
    "'a_usodealcool',\n",
    "'a_agofobspan',\n",
    "'a_angrose3',\n",
    "'a_depgrave',\n",
    "'a_depmodcsint',\n",
    "'a_depmodssint',\n",
    "'a_escoretotal',\n",
    "'a_fobesp',\n",
    "'a_fobsocial',\n",
    "'a_has2',\n",
    "'a_hipertrig',\n",
    "'a_panico',\n",
    "'a_rcq',\n",
    "'a_sfang',\n",
    "'a_sfhf',\n",
    "'a_sintdep',\n",
    "'a_sintfadiga',\n",
    "'a_sintirrit',\n",
    "'a_sintmemoria',\n",
    "'a_sintpreosaude',\n",
    "'a_sintsomat',\n",
    "'a_sintsono',\n",
    "'a_tmad',\n",
    "'a_tmc',\n",
    "'hmpa22',\n",
    "'hmpa28',\n",
    "'hmpa33',\n",
    "'hmpa35',\n",
    "'vifa27',\n",
    "'a_baixohdl',\n",
    "'a_cint',\n",
    "'a_obesidadeabdominal',\n",
    "'a_sfmi',\n",
    "'a_sfrev',\n",
    "'a_sfstk',\n",
    "'a_sitconj',\n",
    "'evea12',\n",
    "'evea15',\n",
    "'hmpa01',\n",
    "'hmpa18',\n",
    "'hmpa24',\n",
    "'hmpa26',\n",
    "'hmpa53',\n",
    "'hvsa13',\n",
    "'a_clas_socialtodos',\n",
    "                          'a_anosdm']"
   ]
  },
  {
   "cell_type": "code",
   "execution_count": null,
   "metadata": {
    "ExecuteTime": {
     "end_time": "2021-12-19T13:59:20.976215Z",
     "start_time": "2021-12-19T13:59:20.925179Z"
    }
   },
   "outputs": [],
   "source": [
    "preencher_zero_missing = [a for a in preencher_zero_missing if a in elsa2.columns]"
   ]
  },
  {
   "cell_type": "code",
   "execution_count": null,
   "metadata": {
    "ExecuteTime": {
     "end_time": "2021-12-19T13:59:21.047481Z",
     "start_time": "2021-12-19T13:59:20.978419Z"
    }
   },
   "outputs": [],
   "source": [
    "elsa2[preencher_zero_missing] = elsa2[preencher_zero_missing].fillna(0)"
   ]
  },
  {
   "cell_type": "code",
   "execution_count": null,
   "metadata": {
    "ExecuteTime": {
     "end_time": "2021-12-19T13:59:21.102821Z",
     "start_time": "2021-12-19T13:59:21.049499Z"
    }
   },
   "outputs": [],
   "source": [
    "elsa2.loc[elsa2[elsa2['a_usodealcool']==0].index, 'a_bebexcessivo'] = 0"
   ]
  },
  {
   "cell_type": "code",
   "execution_count": null,
   "metadata": {
    "ExecuteTime": {
     "end_time": "2021-12-19T13:59:21.155047Z",
     "start_time": "2021-12-19T13:59:21.104810Z"
    }
   },
   "outputs": [],
   "source": [
    "l_remover = ['a_sfcvdhard',\n",
    "'a_clas_social1trab',\n",
    "'a_cat_ocup1trab',\n",
    "'a_nat_ocup1trab',\n",
    "'a_estrato_tec1trab',\n",
    "'a_hratestd3',\n",
    "'a_estrato_tectodos',\n",
    "'a_nat_ocuptodos',\n",
    "'a_cat_ocuptodos',\n",
    "'a_orthypdia3cat',\n",
    "'a_orthypsys3cat',]"
   ]
  },
  {
   "cell_type": "code",
   "execution_count": null,
   "metadata": {
    "ExecuteTime": {
     "end_time": "2021-12-19T13:59:21.235659Z",
     "start_time": "2021-12-19T13:59:21.157164Z"
    }
   },
   "outputs": [],
   "source": [
    "elsa2 = elsa2 >> drop(l_remover)"
   ]
  },
  {
   "cell_type": "code",
   "execution_count": null,
   "metadata": {
    "ExecuteTime": {
     "end_time": "2021-12-19T13:59:21.306360Z",
     "start_time": "2021-12-19T13:59:21.238690Z"
    }
   },
   "outputs": [],
   "source": [
    "elsa2.loc[elsa2[elsa2['a_usodealcool']!=0].index, 'a_bebexcessivo'] = 0"
   ]
  },
  {
   "cell_type": "code",
   "execution_count": null,
   "metadata": {
    "ExecuteTime": {
     "end_time": "2021-12-19T13:59:21.369967Z",
     "start_time": "2021-12-19T13:59:21.308686Z"
    }
   },
   "outputs": [],
   "source": [
    "elsa2.loc[elsa2[elsa2['a_usodealcool']==2].index, 'a_bebexcessivo'] = 0"
   ]
  },
  {
   "cell_type": "code",
   "execution_count": null,
   "metadata": {
    "ExecuteTime": {
     "end_time": "2021-12-19T13:59:21.428620Z",
     "start_time": "2021-12-19T13:59:21.372257Z"
    }
   },
   "outputs": [],
   "source": [
    "elsa2 = elsa2 >> drop(X.idelsa)"
   ]
  },
  {
   "cell_type": "code",
   "execution_count": null,
   "metadata": {
    "ExecuteTime": {
     "end_time": "2021-12-19T13:59:21.622966Z",
     "start_time": "2021-12-19T13:59:21.430648Z"
    }
   },
   "outputs": [],
   "source": [
    "elsa2.head()"
   ]
  },
  {
   "cell_type": "code",
   "execution_count": null,
   "metadata": {
    "ExecuteTime": {
     "end_time": "2021-12-19T13:59:21.682215Z",
     "start_time": "2021-12-19T13:59:21.625419Z"
    }
   },
   "outputs": [],
   "source": [
    "elsa2['def_2dp_global'].value_counts()"
   ]
  },
  {
   "cell_type": "code",
   "execution_count": null,
   "metadata": {
    "ExecuteTime": {
     "end_time": "2021-12-19T13:59:21.747854Z",
     "start_time": "2021-12-19T13:59:21.685309Z"
    }
   },
   "outputs": [],
   "source": [
    " categorical_cols = [\n",
    "'ecoacl25',\n",
    "'ecoacl25a',\n",
    "'ecoacl25e',\n",
    "'ecoacl25c',\n",
    "'ecoacl25d',\n",
    "'ecoacl25b',\n",
    "'ecoacl25g',\n",
    "'a_cat_ocup1trab',\n",
    "'a_nat_ocup1trab',\n",
    "'a_estrato_tec1trab',\n",
    "'a_escolarmae',\n",
    "'a_estrato_tectodos',\n",
    "'a_nat_ocuptodos',\n",
    "'a_ativfisica',\n",
    "'a_usodealcool',\n",
    "'a_angrose3',\n",
    "'a_escolar',\n",
    "'a_fammianyall',\n",
    "'a_famrevanyall',\n",
    "'a_famsdanyall',\n",
    "'a_famstkanyall',\n",
    "'a_fumante',\n",
    "'a_imc3',\n",
    "'a_medaacid',\n",
    "'a_medantdiab',\n",
    "'a_medantidepr',\n",
    "'a_medantplaq',\n",
    "'a_medbcca',\n",
    "'a_medbdz',\n",
    "'a_medbetabl',\n",
    "'a_medbra',\n",
    "'a_meddiaboral',\n",
    "'a_meddiur',\n",
    "'a_medieca',\n",
    "'a_medoftbetabl',\n",
    "'a_medoutahip',\n",
    "'a_medredlip',\n",
    "'a_sitconj',\n",
    "'evea04',\n",
    "'evea09',\n",
    "'evea12',\n",
    "'evea15',\n",
    "'hmpa01',\n",
    "'hoca01',\n",
    "'a_medanthipert',\n",
    "'rcta8',\n",
    "'etnia',\n",
    "'a_famsd60all',\n",
    " 'a_dm',\n",
    "'a_enx_class',\n",
    "'retclqa10a',\n",
    "'retclqa10b',\n",
    "'retclqa10c',\n",
    "'retclqa10d',\n",
    "'retclqa10e',\n",
    "'retclqa10f',\n",
    "'retclqa10g',\n",
    "'retclqa11a',\n",
    "'retclqa11b',\n",
    "'retclqa11c',\n",
    "'retclqa11d',\n",
    "'retclqa11e',\n",
    "'retclqa11f',\n",
    "'retclqa11g',\n",
    "'retclqa12b',\n",
    "'a_clas_socialmobtodos',\n",
    "'a_nat_ocupmobtodos',\n",
    "'hoca07',\n",
    "'hoca08',\n",
    "'a_cat_ocupmobtodos',\n",
    "'hoca05',\n",
    "'hoca09',\n",
    "'a_estrato_tecmobtodos',\n",
    "'a_sfcvdhard',\n",
    "'a_clas_social1trab',\n",
    "'a_rcpcirbariatrica',\n",
    "'a_cat_ocuptodos',\n",
    "'a_hypot3',\n",
    "'a_orthypdia3cat',\n",
    "'a_orthypsys3cat',\n",
    "'a_famchd60all',\n",
    "'a_sintansie',\n",
    "'a_tag',\n",
    "'a_sintpanico',\n",
    "'a_insufartperif',\n",
    "'a_itbalt',\n",
    "'a_sintfobias',\n",
    "'a_padedi',\n",
    "'a_agofobcpan',\n",
    "'a_consdiafastfood',\n",
    "'a_consdiafrutas',\n",
    "'a_consdiaverduras',\n",
    "'a_sintcompul',\n",
    "'a_sintideiadep',\n",
    "'a_sintobses',\n",
    "'a_sintpreocup',\n",
    "'a_toc',\n",
    "'a_agofobspan',\n",
    "'a_depgrave',\n",
    "'a_depmodcsint',\n",
    "'a_depmodssint',\n",
    "'a_fobesp',\n",
    "'a_fobsocial',\n",
    "'a_has2',\n",
    "'a_hipertrig',\n",
    "'a_panico',\n",
    "'a_sfang',\n",
    "'a_sfhf',\n",
    "'a_sintdep',\n",
    "'a_sintfadiga',\n",
    "'a_sintirrit',\n",
    "'a_sintmemoria',\n",
    "'a_sintpreosaude',\n",
    "'a_sintsomat',\n",
    "'a_sintsono',\n",
    "'a_thas2',\n",
    "'a_tmad',\n",
    "'a_tmc',\n",
    "'a_baixohdl',\n",
    "'a_famchdanyall',\n",
    "'a_obesidadeabdominal',\n",
    "'a_sfmi',\n",
    "'a_sfrev',\n",
    "'a_sfstk',\n",
    "'hmpa18',\n",
    "'hmpa24',\n",
    "'hmpa26',\n",
    "'hmpa53',\n",
    "'hmpa22',\n",
    "'hmpa28',\n",
    "'hmpa33',\n",
    "'hmpa35',\n",
    "'vifa27',\n",
    "'hvsa13',   \n",
    "'a_clas_socialtodos',\n",
    "'a_enx_dic',\n",
    "'retclqa13b',\n",
    "'hmpa20',\n",
    "'a_tmcgrav',\n",
    "'hmpa31b',\n",
    "'hmpa31a',\n",
    "'hmpa31c',\n",
    "'hmpa31e',\n",
    "'hmpa31d',\n",
    "'race',  \n",
    "]\n",
    "\n"
   ]
  },
  {
   "cell_type": "code",
   "execution_count": null,
   "metadata": {
    "ExecuteTime": {
     "end_time": "2021-12-19T13:59:21.801155Z",
     "start_time": "2021-12-19T13:59:21.750094Z"
    }
   },
   "outputs": [],
   "source": [
    "continuous_cols = [c for c in elsa2.columns if c not in categorical_cols]"
   ]
  },
  {
   "cell_type": "code",
   "execution_count": null,
   "metadata": {
    "ExecuteTime": {
     "end_time": "2021-10-29T23:23:36.588128Z",
     "start_time": "2021-10-29T23:23:34.529003Z"
    }
   },
   "outputs": [],
   "source": [
    "import missingno  as msno\n",
    "msno.matrix(elsa2[continuous_cols])"
   ]
  },
  {
   "cell_type": "code",
   "execution_count": null,
   "metadata": {
    "ExecuteTime": {
     "end_time": "2021-12-19T13:59:21.867471Z",
     "start_time": "2021-12-19T13:59:21.803653Z"
    }
   },
   "outputs": [],
   "source": [
    "continuous_cols = [c for c in continuous_cols if c in list(elsa2)] \n",
    "categorical_cols = [c for c in categorical_cols if c  in list(elsa2)] "
   ]
  },
  {
   "cell_type": "code",
   "execution_count": null,
   "metadata": {
    "ExecuteTime": {
     "end_time": "2021-10-29T23:23:36.885026Z",
     "start_time": "2021-10-29T23:23:36.646957Z"
    }
   },
   "outputs": [],
   "source": [
    "elsa2"
   ]
  },
  {
   "cell_type": "markdown",
   "metadata": {},
   "source": [
    "## Missing Data"
   ]
  },
  {
   "cell_type": "code",
   "execution_count": null,
   "metadata": {
    "ExecuteTime": {
     "end_time": "2021-12-19T13:59:24.005838Z",
     "start_time": "2021-12-19T13:59:21.869539Z"
    }
   },
   "outputs": [],
   "source": [
    "elsa2[categorical_cols] = elsa2[categorical_cols].fillna('missing')"
   ]
  },
  {
   "cell_type": "code",
   "execution_count": null,
   "metadata": {
    "ExecuteTime": {
     "end_time": "2021-12-19T13:59:24.091639Z",
     "start_time": "2021-12-19T13:59:24.007872Z"
    }
   },
   "outputs": [],
   "source": [
    "elsa2 = elsa2 >> drop(X.a_bebexcessivo) "
   ]
  },
  {
   "cell_type": "code",
   "execution_count": null,
   "metadata": {
    "ExecuteTime": {
     "end_time": "2021-12-19T13:59:24.154876Z",
     "start_time": "2021-12-19T13:59:24.093759Z"
    }
   },
   "outputs": [],
   "source": [
    "elsa2 = elsa2 >> drop(X.a_sfstk) "
   ]
  },
  {
   "cell_type": "code",
   "execution_count": null,
   "metadata": {
    "ExecuteTime": {
     "end_time": "2021-12-19T13:59:24.213765Z",
     "start_time": "2021-12-19T13:59:24.156927Z"
    }
   },
   "outputs": [],
   "source": [
    "continuous_cols = [c for c in continuous_cols if c in list(elsa2)] "
   ]
  },
  {
   "cell_type": "code",
   "execution_count": null,
   "metadata": {
    "ExecuteTime": {
     "end_time": "2021-12-19T13:59:24.266848Z",
     "start_time": "2021-12-19T13:59:24.216159Z"
    }
   },
   "outputs": [],
   "source": [
    "def vazia(value):\n",
    "    if np.isnan(value):\n",
    "        return 1\n",
    "    else:\n",
    "        return 0\n",
    "    "
   ]
  },
  {
   "cell_type": "code",
   "execution_count": null,
   "metadata": {
    "ExecuteTime": {
     "end_time": "2021-12-19T13:59:24.320320Z",
     "start_time": "2021-12-19T13:59:24.269057Z"
    }
   },
   "outputs": [],
   "source": [
    "categorical_cols = [c for c in categorical_cols if c  in list(elsa2)]"
   ]
  },
  {
   "cell_type": "code",
   "execution_count": null,
   "metadata": {
    "ExecuteTime": {
     "end_time": "2021-12-19T13:59:25.178138Z",
     "start_time": "2021-12-19T13:59:24.322705Z"
    }
   },
   "outputs": [],
   "source": [
    "for c in continuous_cols:\n",
    "    if elsa2[c].isnull().sum() > 0:\n",
    "        elsa2[c+'_missing'] =elsa2[c].apply(lambda x : vazia(x))\n",
    "        categorical_cols.append(c+'_missing')"
   ]
  },
  {
   "cell_type": "code",
   "execution_count": null,
   "metadata": {
    "ExecuteTime": {
     "end_time": "2021-12-19T13:59:25.380125Z",
     "start_time": "2021-12-19T13:59:25.180868Z"
    }
   },
   "outputs": [],
   "source": [
    "elsa2.head()"
   ]
  },
  {
   "cell_type": "code",
   "execution_count": null,
   "metadata": {
    "ExecuteTime": {
     "end_time": "2021-12-19T13:59:25.434860Z",
     "start_time": "2021-12-19T13:59:25.382197Z"
    }
   },
   "outputs": [],
   "source": [
    "def setDummies(dados, categorical_cols):\n",
    "    data = pd.get_dummies(dados, columns=categorical_cols)\n",
    "    return data\n",
    "\n",
    "\n",
    "def setScaler(dados):\n",
    "    scaler = preprocessing.StandardScaler()\n",
    "    ct = ColumnTransformer(\n",
    "        [(\"scaler\", StandardScaler(), continuous_cols)], remainder=\"passthrough\"\n",
    "    )\n",
    "    scaler.fit(dados)\n",
    "    return scaler"
   ]
  },
  {
   "cell_type": "markdown",
   "metadata": {},
   "source": [
    "# MICE Imputation"
   ]
  },
  {
   "cell_type": "code",
   "execution_count": null,
   "metadata": {
    "ExecuteTime": {
     "end_time": "2021-12-19T13:59:25.670424Z",
     "start_time": "2021-12-19T13:59:25.437036Z"
    }
   },
   "outputs": [],
   "source": [
    "dados = setDummies(elsa2, categorical_cols)"
   ]
  },
  {
   "cell_type": "code",
   "execution_count": null,
   "metadata": {
    "ExecuteTime": {
     "end_time": "2021-12-19T13:59:25.729189Z",
     "start_time": "2021-12-19T13:59:25.672422Z"
    }
   },
   "outputs": [],
   "source": [
    "[c for c in dados.columns if c.startswith('a_escolar_')]"
   ]
  },
  {
   "cell_type": "code",
   "execution_count": null,
   "metadata": {
    "ExecuteTime": {
     "end_time": "2021-12-19T13:59:25.796544Z",
     "start_time": "2021-12-19T13:59:25.731326Z"
    }
   },
   "outputs": [],
   "source": [
    "[c for c in dados.columns if c.startswith('race')]"
   ]
  },
  {
   "cell_type": "code",
   "execution_count": null,
   "metadata": {
    "ExecuteTime": {
     "end_time": "2021-12-19T13:59:25.860187Z",
     "start_time": "2021-12-19T13:59:25.798596Z"
    }
   },
   "outputs": [],
   "source": [
    "var_sch = {}\n",
    "var_mmc = {}"
   ]
  },
  {
   "cell_type": "code",
   "execution_count": null,
   "metadata": {
    "ExecuteTime": {
     "end_time": "2021-12-19T13:59:25.945599Z",
     "start_time": "2021-12-19T13:59:25.863599Z"
    }
   },
   "outputs": [],
   "source": [
    "for c in continuous_cols:\n",
    "    if elsa2[c].isnull().sum() > 0:\n",
    "        var_sch.update({c:['agepart', 'a_escolar_1', 'a_escolar_2', 'a_escolar_3', 'a_escolar_4', 'race_1.0', 'race_2.0', 'race_3.0', 'race_4.0', 'race_5.0', 'race_missing']})\n",
    "        var_mmc.update({c:5})"
   ]
  },
  {
   "cell_type": "code",
   "execution_count": null,
   "metadata": {
    "ExecuteTime": {
     "end_time": "2021-12-19T13:59:26.071509Z",
     "start_time": "2021-12-19T13:59:25.948537Z"
    }
   },
   "outputs": [],
   "source": [
    "import miceforest as mf"
   ]
  },
  {
   "cell_type": "code",
   "execution_count": null,
   "metadata": {
    "ExecuteTime": {
     "end_time": "2021-12-19T13:59:26.194004Z",
     "start_time": "2021-12-19T13:59:26.073203Z"
    }
   },
   "outputs": [],
   "source": [
    "cust_kernel = mf.KernelDataSet(\n",
    "    dados,\n",
    "    variable_schema=var_sch,\n",
    "    mean_match_candidates=var_mmc\n",
    ")"
   ]
  },
  {
   "cell_type": "code",
   "execution_count": null,
   "metadata": {
    "ExecuteTime": {
     "end_time": "2021-12-19T14:00:02.976341Z",
     "start_time": "2021-12-19T13:59:26.199142Z"
    }
   },
   "outputs": [],
   "source": [
    "cust_kernel.mice(3)"
   ]
  },
  {
   "cell_type": "code",
   "execution_count": null,
   "metadata": {
    "ExecuteTime": {
     "end_time": "2021-12-19T14:00:03.121247Z",
     "start_time": "2021-12-19T14:00:02.978344Z"
    }
   },
   "outputs": [],
   "source": [
    "dados_imputed = cust_kernel.complete_data()"
   ]
  },
  {
   "cell_type": "code",
   "execution_count": null,
   "metadata": {
    "ExecuteTime": {
     "end_time": "2021-12-19T14:00:04.815416Z",
     "start_time": "2021-12-19T14:00:03.123210Z"
    }
   },
   "outputs": [],
   "source": [
    "miss_data(dados_imputed).sort_values(by='missing_in_percentage', ascending=False).head(100)"
   ]
  },
  {
   "cell_type": "code",
   "execution_count": null,
   "metadata": {
    "ExecuteTime": {
     "end_time": "2021-12-19T14:00:04.874213Z",
     "start_time": "2021-12-19T14:00:04.817908Z"
    }
   },
   "outputs": [],
   "source": [
    "from sklearn.model_selection import train_test_split"
   ]
  },
  {
   "cell_type": "code",
   "execution_count": null,
   "metadata": {
    "ExecuteTime": {
     "end_time": "2021-12-19T14:00:04.946021Z",
     "start_time": "2021-12-19T14:00:04.876728Z"
    }
   },
   "outputs": [],
   "source": [
    "dados = dados_imputed >> drop(X.def_2dp_global)\n",
    "classe = dados_imputed >> select(X.def_2dp_global)"
   ]
  },
  {
   "cell_type": "code",
   "execution_count": null,
   "metadata": {
    "ExecuteTime": {
     "end_time": "2021-12-19T14:00:06.080266Z",
     "start_time": "2021-12-19T14:00:04.948121Z"
    }
   },
   "outputs": [],
   "source": [
    "dados.to_csv('dados.csv', index=False)\n",
    "classe.to_csv('classe.csv', index=False)"
   ]
  },
  {
   "cell_type": "code",
   "execution_count": null,
   "metadata": {
    "ExecuteTime": {
     "end_time": "2021-12-19T14:00:06.137473Z",
     "start_time": "2021-12-19T14:00:06.081954Z"
    }
   },
   "outputs": [],
   "source": [
    "classe['def_2dp_global'] = classe['def_2dp_global'].astype('int')"
   ]
  },
  {
   "cell_type": "code",
   "execution_count": null,
   "metadata": {
    "ExecuteTime": {
     "end_time": "2021-12-19T14:00:06.232546Z",
     "start_time": "2021-12-19T14:00:06.139786Z"
    }
   },
   "outputs": [],
   "source": [
    "x_train, x_test, y_train, y_test = train_test_split(\n",
    "    dados, classe, test_size=0.3, stratify=classe, random_state=42\n",
    ")"
   ]
  },
  {
   "cell_type": "code",
   "execution_count": null,
   "metadata": {
    "ExecuteTime": {
     "end_time": "2021-12-19T14:00:06.297214Z",
     "start_time": "2021-12-19T14:00:06.234446Z"
    }
   },
   "outputs": [],
   "source": [
    "continuous_cols = [c for c in continuous_cols if c in list(x_train)] #garante que so usamos as que sobraram\n",
    "categorical_cols = [c for c in categorical_cols if c  in list(x_train)] # garante que so usamos as que sobraram"
   ]
  },
  {
   "cell_type": "code",
   "execution_count": null,
   "metadata": {
    "ExecuteTime": {
     "end_time": "2021-12-19T14:00:06.465123Z",
     "start_time": "2021-12-19T14:00:06.299776Z"
    }
   },
   "outputs": [],
   "source": [
    "sc = StandardScaler()\n",
    "sc.fit(x_train[continuous_cols])\n",
    "x_train[continuous_cols] = sc.transform(x_train[continuous_cols])\n",
    "x_test[continuous_cols] = sc.transform(x_test[continuous_cols])"
   ]
  },
  {
   "cell_type": "markdown",
   "metadata": {},
   "source": [
    "# Model Training"
   ]
  },
  {
   "cell_type": "code",
   "execution_count": null,
   "metadata": {
    "ExecuteTime": {
     "end_time": "2021-12-19T14:00:06.523054Z",
     "start_time": "2021-12-19T14:00:06.467612Z"
    }
   },
   "outputs": [],
   "source": [
    "from imblearn.over_sampling import SMOTE"
   ]
  },
  {
   "cell_type": "code",
   "execution_count": null,
   "metadata": {
    "ExecuteTime": {
     "end_time": "2021-12-19T14:00:06.580148Z",
     "start_time": "2021-12-19T14:00:06.525337Z"
    }
   },
   "outputs": [],
   "source": [
    "over = SMOTE(sampling_strategy=0.1)"
   ]
  },
  {
   "cell_type": "code",
   "execution_count": null,
   "metadata": {
    "ExecuteTime": {
     "end_time": "2021-12-19T14:00:06.880302Z",
     "start_time": "2021-12-19T14:00:06.582470Z"
    }
   },
   "outputs": [],
   "source": [
    "x_train, y_train = over.fit_resample(x_train, y_train)"
   ]
  },
  {
   "cell_type": "code",
   "execution_count": null,
   "metadata": {
    "ExecuteTime": {
     "end_time": "2021-12-19T14:02:33.989878Z",
     "start_time": "2021-12-19T14:02:33.922843Z"
    }
   },
   "outputs": [],
   "source": [
    "def getKtops(y_test, k_perc):\n",
    "    return int(y_test.shape[0]*(k_perc/100))"
   ]
  },
  {
   "cell_type": "code",
   "execution_count": null,
   "metadata": {
    "ExecuteTime": {
     "end_time": "2021-10-17T14:58:51.914732Z",
     "start_time": "2021-10-17T14:58:51.858802Z"
    }
   },
   "outputs": [],
   "source": [
    "from xgboost import XGBClassifier\n",
    "\n",
    "xgboost_space = {\n",
    "    \"max_depth\": hp.choice(\"x_max_depth\", [3, 4, 5, 6, 7]),\n",
    "    'min_child_weight':hp.choice('x_min_child_weight',np.round(np.arange(0.0,0.2,0.01),5)),\n",
    "    \"subsample\": hp.choice(\"x_subsample\", np.round(np.arange(0.1, 1.0, 0.05), 5)),\n",
    "\n",
    "    \"colsample_bytree\": hp.choice(\n",
    "        \"x_colsample_bytree\", np.round(np.arange(0.1, 1.0, 0.05), 5)\n",
    "    ),\n",
    "    \"n_estimators\": hp.choice(\"x_n_estimators\", np.arange(25, 150, 25)),\n",
    "    \"scale_pos_weight\": hp.choice(\n",
    "        \"x_n_scale_pos_weight\", np.arange(1, 5, 2, dtype=int)\n",
    "    ),\n",
    "    \"min_child_weight\": hp.quniform(\"x_min_child_weight\", 1, 6, 1),\n",
    "\n",
    "}\n"
   ]
  },
  {
   "cell_type": "code",
   "execution_count": null,
   "metadata": {
    "ExecuteTime": {
     "end_time": "2021-10-17T15:11:13.902917Z",
     "start_time": "2021-10-17T14:58:52.537867Z"
    }
   },
   "outputs": [],
   "source": [
    "labdaps.run_hyperopt_classification(\n",
    "    \"xgb\",\n",
    "    xgboost_space,\n",
    "    x_train,\n",
    "    y_train.values,\n",
    "    scoring=\"roc_auc\",\n",
    "    max_evals=50,\n",
    "    \n",
    ")"
   ]
  },
  {
   "cell_type": "code",
   "execution_count": null,
   "metadata": {
    "ExecuteTime": {
     "end_time": "2021-10-29T23:26:23.679540Z",
     "start_time": "2021-10-29T23:26:23.318485Z"
    }
   },
   "outputs": [],
   "source": [
    "from xgboost import XGBClassifier"
   ]
  },
  {
   "cell_type": "code",
   "execution_count": null,
   "metadata": {
    "ExecuteTime": {
     "end_time": "2021-10-29T23:26:28.141265Z",
     "start_time": "2021-10-29T23:26:28.089139Z"
    }
   },
   "outputs": [],
   "source": [
    "params = {'colsample_bytree': 0.45, 'max_depth': 6, 'min_child_weight': 4.0, 'n_estimators': 75, 'scale_pos_weight': 3, 'subsample': 0.95}"
   ]
  },
  {
   "cell_type": "code",
   "execution_count": null,
   "metadata": {
    "ExecuteTime": {
     "end_time": "2021-10-29T23:26:28.865219Z",
     "start_time": "2021-10-29T23:26:28.816760Z"
    }
   },
   "outputs": [],
   "source": [
    "xgb = XGBClassifier(**params, random_state=32)"
   ]
  },
  {
   "cell_type": "code",
   "execution_count": null,
   "metadata": {
    "ExecuteTime": {
     "end_time": "2021-10-29T23:26:29.314282Z",
     "start_time": "2021-10-29T23:26:29.261212Z"
    }
   },
   "outputs": [],
   "source": [
    "def getKtops(y_test, k_perc):\n",
    "    return int(y_test.shape[0]*(k_perc/100))"
   ]
  },
  {
   "cell_type": "code",
   "execution_count": null,
   "metadata": {
    "ExecuteTime": {
     "end_time": "2021-10-30T00:44:51.224001Z",
     "start_time": "2021-10-30T00:44:38.078053Z"
    },
    "scrolled": false
   },
   "outputs": [],
   "source": [
    "import shap\n",
    "%config InlineBackend.figure_format = 'retina'\n",
    "import seaborn as sns\n",
    "import matplotlib.pyplot as plt\n",
    "#plt.style.use('grayscale')\n",
    "sns.set(style=\"whitegrid\")\n",
    "\n",
    "\n",
    "labdaps.runBinaryClassifierModel(\n",
    "    xgb,\n",
    "    dados,\n",
    "    classe,\n",
    "    calibrate=False,\n",
    "    numerical_features=continuous_cols,\n",
    "    categorical_features=categorical_cols,\n",
    "    preprocess=False,\n",
    "    apply_OSS=False,\n",
    "    showBestThreshold=False,\n",
    "    X_train=x_train,\n",
    "    X_test = x_test,\n",
    "    y_train=y_train,\n",
    "    y_test=y_test,\n",
    "    k_tops=[getKtops(y_test, 1), getKtops(y_test, 5), getKtops(y_test, 10), getKtops(y_test, 20)]\n",
    ")"
   ]
  },
  {
   "cell_type": "code",
   "execution_count": null,
   "metadata": {
    "ExecuteTime": {
     "end_time": "2021-11-06T08:36:04.834706Z",
     "start_time": "2021-11-06T08:36:04.612842Z"
    }
   },
   "outputs": [],
   "source": [
    "x_test_labels = x_test.copy()"
   ]
  },
  {
   "cell_type": "code",
   "execution_count": null,
   "metadata": {
    "ExecuteTime": {
     "end_time": "2021-11-06T08:36:05.855816Z",
     "start_time": "2021-11-06T08:36:05.740974Z"
    }
   },
   "outputs": [],
   "source": [
    "colunas_shap = list(x_test_labels.columns)\n",
    "for i,c in enumerate(colunas_shap):\n",
    "    if c.strip() == 'a_escolar_4':\n",
    "        colunas_shap[i] = 'Education: college'\n",
    "    if c.strip() == 'race_3.0':\n",
    "        colunas_shap[i] = 'Self-reported race: white'\n",
    "    if c.strip() == 'hmpa53_1.0':\n",
    "        colunas_shap[i] = 'Health insurance'\n",
    "    if c.strip() == 'a_escolar_3':\n",
    "        colunas_shap[i] = 'Education: high school'\n",
    "    if c.strip() == 'a_cat_ocupmobtodos_0.0':\n",
    "        colunas_shap[i] = 'Without occupational mobility'\n",
    "    if c.strip() == 'a_vifa30_pmcat':\n",
    "        colunas_shap[i] = 'Monthly family net income'\n",
    "    if c.strip() == 'a_cat_ocupmobtodos_1.0':\n",
    "        colunas_shap[i] = 'With occupational mobility'\n",
    "    if c.strip() == 'a_escolarmae_2.0':\n",
    "        colunas_shap[i] = 'Maternal education: middle school'\n",
    "    if c.strip() == 'rcta8_2':\n",
    "        colunas_shap[i] = 'Female'\n",
    "    if c.strip() == 'a_consdiafrutas_1.0':\n",
    "        colunas_shap[i] = 'Daily intake of fruits'\n",
    "    if c.strip() == 'hmpa01_1.0':\n",
    "        colunas_shap[i] = 'Excelent self-rated health '\n",
    "    if c.strip() == 'a_clas_social_todos2.0':\n",
    "        colunas_shap[i] = 'Lower-upper social class'\n",
    "    if c.strip() == 'a_consdiaverduras_1.0':\n",
    "        colunas_shap[i] = 'Daily intake of vegetables'\n",
    "    if c.strip() == 'a_enx_dic1.0':\n",
    "        colunas_shap[i] = 'Migraine'\n",
    "    if c.strip() == 'a_rendapercapita':\n",
    "        colunas_shap[i] = 'Per capita income'\n",
    "    if c.strip() == 'a_fumante1.0':\n",
    "        colunas_shap[i] = 'Previous smoker'\n",
    "    if c.strip() == 'a_rcq':\n",
    "        colunas_shap[i] = 'Waist-hip ratio'\n",
    "    if c.strip() == 'agepart':\n",
    "        colunas_shap[i] = 'Age'\n",
    "    if c.strip() == 'a_escolar_1':\n",
    "        colunas_shap[i] = 'Education: lower than middle school'\n",
    "    if c.strip() == 'a_usodealcool_2.0':\n",
    "        colunas_shap[i] = 'Current alcohol consumption'\n",
    "    if c.strip() == 'hmpa53_0.0':\n",
    "        colunas_shap[i] = 'Without health insurance'\n",
    "    if c.strip() == 'a_famstkanyall_1.0':\n",
    "        colunas_shap[i] = 'Family history of stroke'\n",
    "    if c.strip() == 'a_hipertrig_0.0':\n",
    "        colunas_shap[i] = 'Normal triglycerides'\n",
    "    if c.strip() == 'hmpa22_1.0':\n",
    "        colunas_shap[i] = 'Kidney disease'\n",
    "    if c.strip() == 'a_obesidadeabdominal_1.0':\n",
    "        colunas_shap[i] = 'Abdominal obesity'\n",
    "    if c.strip() == 'a_clas_socialtodos_5.0':\n",
    "        colunas_shap[i] = 'Lower middle class'\n",
    "    if c.strip() == 'linsj':\n",
    "        colunas_shap[i] = 'Insulin (mcUI/mL)'  \n",
    "    if c.strip() == 'lldl':\n",
    "        colunas_shap[i] = 'Low-density lipoprotein cholesterol (mg/dL)'\n",
    "\n",
    "\n",
    "\n",
    "    "
   ]
  },
  {
   "cell_type": "code",
   "execution_count": null,
   "metadata": {
    "ExecuteTime": {
     "end_time": "2021-10-30T12:07:30.403040Z",
     "start_time": "2021-10-30T12:07:30.348310Z"
    }
   },
   "outputs": [],
   "source": [
    "'Age' in colunas_shap"
   ]
  },
  {
   "cell_type": "code",
   "execution_count": null,
   "metadata": {
    "ExecuteTime": {
     "end_time": "2021-11-06T08:36:10.516996Z",
     "start_time": "2021-11-06T08:36:10.433883Z"
    }
   },
   "outputs": [],
   "source": [
    "x_test_labels.columns = colunas_shap"
   ]
  },
  {
   "cell_type": "code",
   "execution_count": null,
   "metadata": {
    "ExecuteTime": {
     "end_time": "2021-11-06T08:36:26.764602Z",
     "start_time": "2021-11-06T08:36:21.907506Z"
    }
   },
   "outputs": [],
   "source": [
    "import shap\n",
    "%config InlineBackend.figure_format = 'retina'\n",
    "import seaborn as sns\n",
    "import matplotlib.pyplot as plt\n",
    "#plt.style.use('grayscale')\n",
    "sns.set(style=\"whitegrid\")\n",
    "shap_values = shap.TreeExplainer(xgb).shap_values(x_test)\n",
    "shap.summary_plot(shap_values, x_test_labels, plot_type=\"dot\")"
   ]
  },
  {
   "cell_type": "markdown",
   "metadata": {},
   "source": [
    "# LIGHTGBM"
   ]
  },
  {
   "cell_type": "code",
   "execution_count": null,
   "metadata": {
    "ExecuteTime": {
     "end_time": "2021-07-18T21:50:48.118678Z",
     "start_time": "2021-07-18T21:50:28.357720Z"
    }
   },
   "outputs": [],
   "source": [
    "!pip install lightgbm"
   ]
  },
  {
   "cell_type": "code",
   "execution_count": null,
   "metadata": {
    "ExecuteTime": {
     "end_time": "2021-10-17T14:05:36.802637Z",
     "start_time": "2021-10-17T14:02:01.042328Z"
    }
   },
   "outputs": [],
   "source": [
    "space_lgb = {\n",
    "            'class_weight': hp.choice('p1_class_weight', [None, 'balanced']),\n",
    "             \"num_leaves\": hp.choice(\"p3_num_leaves\", np.arange(30,150,1, dtype=int)),\n",
    "          \n",
    "            'reg_alpha': hp.uniform('p7_reg_alpha', 0.0, 1.0),\n",
    "            'reg_lambda': hp.uniform('p8_reg_lambda', 0.0, 1.0),         \n",
    "            'colsample_bytree': hp.uniform('p9_colsample_bytree', 0.6, 1.0),\n",
    "            'scale_pos_weight': hp.choice('scale_pos_weight', np.arange(1, 12, 2, dtype=int)),\n",
    "}\n",
    "\n",
    "labdaps.run_hyperopt_classification(\n",
    "    \"lgb\", space_lgb, x_train, y_train, scoring=\"roc_auc\", max_evals=100\n",
    ")"
   ]
  },
  {
   "cell_type": "code",
   "execution_count": null,
   "metadata": {
    "ExecuteTime": {
     "end_time": "2021-10-30T00:35:33.150456Z",
     "start_time": "2021-10-30T00:35:32.485922Z"
    }
   },
   "outputs": [],
   "source": [
    "import lightgbm as lgb\n",
    "best_lgb =  {'class_weight': None, 'colsample_bytree': 0.8478627690683495, 'num_leaves': 96, 'reg_alpha': 0.0006631135795163029, 'reg_lambda': 0.5746889997710464, 'scale_pos_weight': 1}\n",
    "lgb = lgb.LGBMClassifier(**best_lgb, random_state=42)"
   ]
  },
  {
   "cell_type": "code",
   "execution_count": null,
   "metadata": {
    "ExecuteTime": {
     "end_time": "2021-10-30T00:35:39.769018Z",
     "start_time": "2021-10-30T00:35:33.388288Z"
    },
    "scrolled": false
   },
   "outputs": [],
   "source": [
    "labdaps.runBinaryClassifierModel(\n",
    "    lgb,\n",
    "    dados,\n",
    "    classe,\n",
    "    calibrate=False,\n",
    "    numerical_features=continuous_cols,\n",
    "    categorical_features=categorical_cols,\n",
    "    preprocess=False,\n",
    "    apply_OSS=False,\n",
    "    showBestThreshold=False,\n",
    "    X_train=x_train,\n",
    "    X_test = x_test,\n",
    "    y_train=y_train,\n",
    "    y_test=y_test,\n",
    "    k_tops=[getKtops(y_test, 1), getKtops(y_test, 5), getKtops(y_test, 10), getKtops(y_test, 20)]\n",
    ")"
   ]
  },
  {
   "cell_type": "code",
   "execution_count": null,
   "metadata": {
    "ExecuteTime": {
     "end_time": "2021-10-17T14:07:43.498724Z",
     "start_time": "2021-10-17T14:07:37.773481Z"
    }
   },
   "outputs": [],
   "source": [
    "import shap\n",
    "%config InlineBackend.figure_format = 'retina'\n",
    "import seaborn as sns\n",
    "import matplotlib.pyplot as plt\n",
    "#plt.style.use('grayscale')\n",
    "sns.set(style=\"whitegrid\")\n",
    "shap_values = shap.TreeExplainer(lgb).shap_values(x_test)\n",
    "shap.summary_plot(shap_values[1], x_test, plot_type=\"dot\")"
   ]
  },
  {
   "cell_type": "markdown",
   "metadata": {},
   "source": [
    "# ANN"
   ]
  },
  {
   "cell_type": "code",
   "execution_count": null,
   "metadata": {
    "ExecuteTime": {
     "end_time": "2021-10-17T14:11:44.994444Z",
     "start_time": "2021-10-17T14:07:43.507456Z"
    }
   },
   "outputs": [],
   "source": [
    "ann_space = {\n",
    "    \"activation\": hp.choice(\"x_activation\", [\"relu\", \"tanh\"]),\n",
    "    \"solver\": hp.choice(\"x_solver\", [\"adam\", \"lbfgs\", \"sgd\"]),\n",
    "    \"alpha\": hp.choice(\"x_alpha\", 10.0 ** -np.arange(1, 7)),\n",
    "    \"max_iter\": hp.choice(\"max_iter\", np.arange(100,1000,100)),\n",
    "    \"hidden_layer_sizes\": hp.choice(\"hidden\", np.arange(5, 12)),\n",
    "    \"batch_size\": hp.choice(\"batch\", np.arange(5, 30, 5)),\n",
    "    \"learning_rate_init\": hp.choice(\"learning\", [0.01, 0.03, 0.1]),\n",
    "}\n",
    "\n",
    "\n",
    "labdaps.run_hyperopt_classification(\n",
    "    \"ann\", ann_space, x_train, y_train, scoring=\"roc_auc\"\n",
    ")"
   ]
  },
  {
   "cell_type": "code",
   "execution_count": null,
   "metadata": {
    "ExecuteTime": {
     "end_time": "2021-10-30T00:36:18.244191Z",
     "start_time": "2021-10-30T00:36:18.139343Z"
    }
   },
   "outputs": [],
   "source": [
    "from sklearn import neural_network\n",
    "best_ann = {'activation': 'relu', 'alpha': 0.1, 'batch_size': 20, 'hidden_layer_sizes': 11, 'learning_rate_init': 0.1, 'max_iter': 200, 'solver': 'lbfgs'}\n",
    "ann = neural_network.MLPClassifier(**best_ann, random_state=42)"
   ]
  },
  {
   "cell_type": "code",
   "execution_count": null,
   "metadata": {
    "ExecuteTime": {
     "end_time": "2021-10-30T00:36:25.365254Z",
     "start_time": "2021-10-30T00:36:18.880852Z"
    },
    "scrolled": false
   },
   "outputs": [],
   "source": [
    "labdaps.runBinaryClassifierModel(\n",
    "    ann,\n",
    "    dados,\n",
    "    classe,\n",
    "    calibrate=False,\n",
    "    numerical_features=continuous_cols,\n",
    "    categorical_features=categorical_cols,\n",
    "    preprocess=False,\n",
    "    apply_OSS=False,\n",
    "    showBestThreshold=False,\n",
    "    X_train=x_train,\n",
    "    X_test = x_test,\n",
    "    y_train=y_train,\n",
    "    y_test=y_test,\n",
    "    k_tops=[getKtops(y_test, 1), getKtops(y_test, 5), getKtops(y_test, 10), getKtops(y_test, 20)]\n",
    ")"
   ]
  },
  {
   "cell_type": "code",
   "execution_count": null,
   "metadata": {
    "ExecuteTime": {
     "end_time": "2021-10-17T14:30:34.312226Z",
     "start_time": "2021-10-17T14:13:59.075419Z"
    }
   },
   "outputs": [],
   "source": [
    "explainer = shap.KernelExplainer(ann.predict_proba, shap.kmeans(x_test,5))\n",
    "shap_values = explainer.shap_values(x_test)"
   ]
  },
  {
   "cell_type": "code",
   "execution_count": null,
   "metadata": {
    "ExecuteTime": {
     "end_time": "2021-10-17T14:30:36.266231Z",
     "start_time": "2021-10-17T14:30:34.316219Z"
    }
   },
   "outputs": [],
   "source": [
    "sns.set(style=\"whitegrid\")\n",
    "shap.summary_plot(shap_values[1], x_test, plot_type=\"dot\")\n",
    "\n"
   ]
  },
  {
   "cell_type": "markdown",
   "metadata": {},
   "source": [
    "# Logistic Regression"
   ]
  },
  {
   "cell_type": "code",
   "execution_count": null,
   "metadata": {
    "ExecuteTime": {
     "end_time": "2021-10-30T00:39:34.537128Z",
     "start_time": "2021-10-30T00:39:34.484971Z"
    }
   },
   "outputs": [],
   "source": [
    "from sklearn.linear_model import LogisticRegression\n",
    "lr = LogisticRegression(random_state=42, penalty='none')"
   ]
  },
  {
   "cell_type": "code",
   "execution_count": null,
   "metadata": {
    "ExecuteTime": {
     "end_time": "2021-10-30T00:39:42.172484Z",
     "start_time": "2021-10-30T00:39:35.074665Z"
    },
    "scrolled": false,
    "tags": [
     "outputPrepend"
    ]
   },
   "outputs": [],
   "source": [
    "labdaps.runBinaryClassifierModel(\n",
    "    lr,\n",
    "    dados,\n",
    "    classe,\n",
    "    calibrate=False,\n",
    "    numerical_features=continuous_cols,\n",
    "    categorical_features=categorical_cols,\n",
    "    preprocess=False,\n",
    "    apply_OSS=False,\n",
    "    showBestThreshold=False,\n",
    "    X_train=x_train,\n",
    "    X_test = x_test,\n",
    "    y_train=y_train,\n",
    "    y_test=y_test,\n",
    "    k_tops=[getKtops(y_test, 1), getKtops(y_test, 5), getKtops(y_test, 10), getKtops(y_test, 20)]\n",
    ")"
   ]
  },
  {
   "cell_type": "code",
   "execution_count": null,
   "metadata": {
    "ExecuteTime": {
     "end_time": "2021-10-17T14:45:50.329943Z",
     "start_time": "2021-10-17T14:30:42.136818Z"
    }
   },
   "outputs": [],
   "source": [
    "\n",
    "explainer = shap.KernelExplainer(lr.predict_proba, shap.kmeans(x_test,5))\n",
    "shap_values = explainer.shap_values(x_test)"
   ]
  },
  {
   "cell_type": "code",
   "execution_count": null,
   "metadata": {
    "ExecuteTime": {
     "end_time": "2021-10-17T14:45:52.322251Z",
     "start_time": "2021-10-17T14:45:50.332256Z"
    }
   },
   "outputs": [],
   "source": [
    "shap.summary_plot(shap_values[1], x_test, plot_type=\"dot\")"
   ]
  },
  {
   "cell_type": "markdown",
   "metadata": {},
   "source": [
    "# CATBOOST"
   ]
  },
  {
   "cell_type": "code",
   "execution_count": null,
   "metadata": {
    "ExecuteTime": {
     "end_time": "2021-12-19T14:01:01.150201Z",
     "start_time": "2021-12-19T14:01:00.536461Z"
    }
   },
   "outputs": [],
   "source": [
    "from catboost import CatBoostClassifier"
   ]
  },
  {
   "cell_type": "code",
   "execution_count": null,
   "metadata": {
    "ExecuteTime": {
     "end_time": "2021-12-19T14:01:02.235127Z",
     "start_time": "2021-12-19T14:01:02.186120Z"
    }
   },
   "outputs": [],
   "source": [
    "cat = CatBoostClassifier(iterations=100,\n",
    "                           learning_rate=1,\n",
    "                           random_state=42\n",
    "                          )"
   ]
  },
  {
   "cell_type": "code",
   "execution_count": null,
   "metadata": {
    "ExecuteTime": {
     "end_time": "2021-12-19T14:02:47.596565Z",
     "start_time": "2021-12-19T14:02:39.650448Z"
    },
    "scrolled": false
   },
   "outputs": [],
   "source": [
    "labdaps.runBinaryClassifierModel(\n",
    "    cat,\n",
    "    dados,\n",
    "    classe,\n",
    "    calibrate=False,\n",
    "    numerical_features=continuous_cols,\n",
    "    categorical_features=categorical_cols,\n",
    "    preprocess=False,\n",
    "    apply_OSS=False,\n",
    "    showBestThreshold=False,\n",
    "    X_train=x_train,\n",
    "    X_test = x_test,\n",
    "    y_train=y_train,\n",
    "    y_test=y_test,\n",
    "    k_tops=[getKtops(y_test, 1), getKtops(y_test, 5), getKtops(y_test, 10), getKtops(y_test, 20)]\n",
    ")"
   ]
  },
  {
   "cell_type": "code",
   "execution_count": null,
   "metadata": {},
   "outputs": [],
   "source": []
  }
 ],
 "metadata": {
  "interpreter": {
   "hash": "a93ed50844ab6d8db0386233e836b0e0ab15fcc5759fdabfd5ca6142befb78e3"
  },
  "kernelspec": {
   "display_name": "Python 3",
   "language": "python",
   "name": "python3"
  },
  "language_info": {
   "codemirror_mode": {
    "name": "ipython",
    "version": 3
   },
   "file_extension": ".py",
   "mimetype": "text/x-python",
   "name": "python",
   "nbconvert_exporter": "python",
   "pygments_lexer": "ipython3",
   "version": "3.7.10"
  },
  "toc": {
   "base_numbering": 1,
   "nav_menu": {},
   "number_sections": true,
   "sideBar": true,
   "skip_h1_title": false,
   "title_cell": "Table of Contents",
   "title_sidebar": "Contents",
   "toc_cell": false,
   "toc_position": {},
   "toc_section_display": true,
   "toc_window_display": false
  }
 },
 "nbformat": 4,
 "nbformat_minor": 4
}
